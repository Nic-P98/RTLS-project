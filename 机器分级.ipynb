{
 "cells": [
  {
   "cell_type": "code",
   "execution_count": 1,
   "id": "d8894049",
   "metadata": {},
   "outputs": [],
   "source": [
    "import pandas as pd\n",
    "import numpy as np\n",
    "from collections import Counter"
   ]
  },
  {
   "cell_type": "code",
   "execution_count": 2,
   "id": "b9228610",
   "metadata": {},
   "outputs": [],
   "source": [
    "m=pd.read_csv(\"D:/USC/ISE534/k/machine.csv\")"
   ]
  },
  {
   "cell_type": "code",
   "execution_count": 3,
   "id": "56145c0e",
   "metadata": {},
   "outputs": [],
   "source": [
    "#根据在线时间和平均移动距离，人为分辨等级\n",
    "hour_int=[]\n",
    "for i in range(len(m[\"Stay_duration\"])):\n",
    "    hour_int.append(int(m[\"Stay_duration\"][i]))"
   ]
  },
  {
   "cell_type": "code",
   "execution_count": 4,
   "id": "3e86c05c",
   "metadata": {},
   "outputs": [
    {
     "name": "stdout",
     "output_type": "stream",
     "text": [
      "Counter({4: 273, 3: 265, 5: 188, 6: 154, 7: 102, 8: 49, 2: 48, 9: 27, 10: 19, 11: 12, 15: 10, 18: 5, 12: 5, 16: 5, 13: 3, 19: 3, 17: 2, 20: 2, 14: 1, 21: 1, 22: 1, 1: 1})\n"
     ]
    }
   ],
   "source": [
    "freq_dict=Counter(hour_int)\n",
    "print(freq_dict)"
   ]
  },
  {
   "cell_type": "code",
   "execution_count": 5,
   "id": "68d92912",
   "metadata": {},
   "outputs": [
    {
     "name": "stderr",
     "output_type": "stream",
     "text": [
      "C:\\Users\\13929\\AppData\\Local\\Temp/ipykernel_5112/2885179587.py:3: SettingWithCopyWarning: \n",
      "A value is trying to be set on a copy of a slice from a DataFrame.\n",
      "Try using .loc[row_indexer,col_indexer] = value instead\n",
      "\n",
      "See the caveats in the documentation: https://pandas.pydata.org/pandas-docs/stable/user_guide/indexing.html#returning-a-view-versus-a-copy\n",
      "  hour8_10[\"latstd+lngstd\"]=hour8_10[\"lat_std\"]+hour8_10[\"lng_std\"]\n"
     ]
    }
   ],
   "source": [
    "#9小时作为分界点\n",
    "hour8_10=m[m.Stay_duration.between(8,10)]\n",
    "hour8_10[\"latstd+lngstd\"]=hour8_10[\"lat_std\"]+hour8_10[\"lng_std\"]\n",
    "hour8_10=hour8_10[[\"Stay_duration\",\"lat_std\",\"lng_std\"]]\n",
    "\n",
    "#计算lat_std和lng_std的平方和\n",
    "hour8_10[\"std_square_sum\"]=hour8_10[\"lat_std\"]*hour8_10[\"lat_std\"]+hour8_10[\"lng_std\"]*hour8_10[\"lng_std\"]"
   ]
  },
  {
   "cell_type": "code",
   "execution_count": 7,
   "id": "68c4aef0",
   "metadata": {},
   "outputs": [
    {
     "data": {
      "text/plain": [
       "<AxesSubplot:>"
      ]
     },
     "execution_count": 7,
     "metadata": {},
     "output_type": "execute_result"
    },
    {
     "data": {
      "image/png": "[encoded data removed]",
      "text/plain": [
       "<Figure size 432x288 with 1 Axes>"
      ]
     },
     "metadata": {
      "needs_background": "light"
     },
     "output_type": "display_data"
    }
   ],
   "source": [
    "hour8_10[\"std_square_sum\"].hist()"
   ]
  },
  {
   "cell_type": "markdown",
   "id": "c2e48c65",
   "metadata": {},
   "source": [
    "0.1作为分界线\n",
    "\n",
    "Stay_Duration 小于8的   类别A\n",
    "\n",
    "Stay_Duration 大于10的  类别B\n",
    "\n",
    "在两者之间的：lat_std和lng_std的平方和大于0.1的  类别A，   否则  类别B"
   ]
  },
  {
   "cell_type": "code",
   "execution_count": 10,
   "id": "c3324c2d",
   "metadata": {},
   "outputs": [],
   "source": [
    "m[\"std_square_sum\"]=m[\"lat_std\"]*m[\"lat_std\"]+m[\"lng_std\"]*m[\"lng_std\"]"
   ]
  },
  {
   "cell_type": "code",
   "execution_count": 13,
   "id": "eb401138",
   "metadata": {},
   "outputs": [],
   "source": [
    "for i in range(len(m[\"lat_std\"])):\n",
    "    if m[\"Stay_duration\"][i]<=8:\n",
    "        m[\"machine_label\"]=\"A\"\n",
    "    elif m[\"Stay_duration\"][i]>=10:\n",
    "        m[\"machine_label\"]=\"B\"\n",
    "    else:\n",
    "        if m[\"std_square_sum\"][i]>0.1:\n",
    "            m[\"machine_label\"]=\"A\" \n",
    "        else:\n",
    "            m[\"machine_label\"]=\"B\""
   ]
  },
  {
   "cell_type": "code",
   "execution_count": 15,
   "id": "695f2878",
   "metadata": {},
   "outputs": [
    {
     "data": {
      "text/html": [
       "<div>\n",
       "<style scoped>\n",
       "    .dataframe tbody tr th:only-of-type {\n",
       "        vertical-align: middle;\n",
       "    }\n",
       "\n",
       "    .dataframe tbody tr th {\n",
       "        vertical-align: top;\n",
       "    }\n",
       "\n",
       "    .dataframe thead th {\n",
       "        text-align: right;\n",
       "    }\n",
       "</style>\n",
       "<table border=\"1\" class=\"dataframe\">\n",
       "  <thead>\n",
       "    <tr style=\"text-align: right;\">\n",
       "      <th></th>\n",
       "      <th>Id</th>\n",
       "      <th>ClientMacAddr</th>\n",
       "      <th>Freq_per_day</th>\n",
       "      <th>lat_std</th>\n",
       "      <th>Stay_duration</th>\n",
       "      <th>lng_std</th>\n",
       "      <th>Category</th>\n",
       "      <th>Floor</th>\n",
       "      <th>std_square_sum</th>\n",
       "      <th>machine_label</th>\n",
       "    </tr>\n",
       "  </thead>\n",
       "  <tbody>\n",
       "    <tr>\n",
       "      <th>0</th>\n",
       "      <td>4</td>\n",
       "      <td>00:23:a7:e7:96:0c</td>\n",
       "      <td>5378.699258</td>\n",
       "      <td>0.033894</td>\n",
       "      <td>15.371143</td>\n",
       "      <td>0.021194</td>\n",
       "      <td>1</td>\n",
       "      <td>0</td>\n",
       "      <td>0.001598</td>\n",
       "      <td>A</td>\n",
       "    </tr>\n",
       "    <tr>\n",
       "      <th>1</th>\n",
       "      <td>5</td>\n",
       "      <td>00:23:a7:e7:a8:1c</td>\n",
       "      <td>5080.000000</td>\n",
       "      <td>0.008490</td>\n",
       "      <td>15.000000</td>\n",
       "      <td>0.007667</td>\n",
       "      <td>1</td>\n",
       "      <td>0</td>\n",
       "      <td>0.000131</td>\n",
       "      <td>A</td>\n",
       "    </tr>\n",
       "    <tr>\n",
       "      <th>2</th>\n",
       "      <td>6</td>\n",
       "      <td>00:26:c6:6d:02:3e</td>\n",
       "      <td>5470.924428</td>\n",
       "      <td>0.048923</td>\n",
       "      <td>15.787148</td>\n",
       "      <td>0.031102</td>\n",
       "      <td>1</td>\n",
       "      <td>0</td>\n",
       "      <td>0.003361</td>\n",
       "      <td>A</td>\n",
       "    </tr>\n",
       "    <tr>\n",
       "      <th>3</th>\n",
       "      <td>7</td>\n",
       "      <td>00:28:f8:26:ae:e4</td>\n",
       "      <td>5226.495092</td>\n",
       "      <td>0.018679</td>\n",
       "      <td>15.381769</td>\n",
       "      <td>0.010157</td>\n",
       "      <td>1</td>\n",
       "      <td>0</td>\n",
       "      <td>0.000452</td>\n",
       "      <td>A</td>\n",
       "    </tr>\n",
       "    <tr>\n",
       "      <th>4</th>\n",
       "      <td>8</td>\n",
       "      <td>00:80:92:df:7b:97</td>\n",
       "      <td>3905.074778</td>\n",
       "      <td>0.039068</td>\n",
       "      <td>11.450048</td>\n",
       "      <td>0.031565</td>\n",
       "      <td>1</td>\n",
       "      <td>0</td>\n",
       "      <td>0.002523</td>\n",
       "      <td>A</td>\n",
       "    </tr>\n",
       "    <tr>\n",
       "      <th>...</th>\n",
       "      <td>...</td>\n",
       "      <td>...</td>\n",
       "      <td>...</td>\n",
       "      <td>...</td>\n",
       "      <td>...</td>\n",
       "      <td>...</td>\n",
       "      <td>...</td>\n",
       "      <td>...</td>\n",
       "      <td>...</td>\n",
       "      <td>...</td>\n",
       "    </tr>\n",
       "    <tr>\n",
       "      <th>1171</th>\n",
       "      <td>2039</td>\n",
       "      <td>e4:a7:a0:99:bd:e9</td>\n",
       "      <td>493.000000</td>\n",
       "      <td>0.024648</td>\n",
       "      <td>3.000000</td>\n",
       "      <td>0.106408</td>\n",
       "      <td>1</td>\n",
       "      <td>3</td>\n",
       "      <td>0.011930</td>\n",
       "      <td>A</td>\n",
       "    </tr>\n",
       "    <tr>\n",
       "      <th>1172</th>\n",
       "      <td>2046</td>\n",
       "      <td>e4:a7:a0:99:dd:ec</td>\n",
       "      <td>641.000000</td>\n",
       "      <td>0.033193</td>\n",
       "      <td>3.000000</td>\n",
       "      <td>0.096531</td>\n",
       "      <td>1</td>\n",
       "      <td>3</td>\n",
       "      <td>0.010420</td>\n",
       "      <td>A</td>\n",
       "    </tr>\n",
       "    <tr>\n",
       "      <th>1173</th>\n",
       "      <td>2063</td>\n",
       "      <td>f0:8a:76:f7:3f:e4</td>\n",
       "      <td>1097.879286</td>\n",
       "      <td>0.043205</td>\n",
       "      <td>11.354157</td>\n",
       "      <td>0.156187</td>\n",
       "      <td>1</td>\n",
       "      <td>3</td>\n",
       "      <td>0.026261</td>\n",
       "      <td>A</td>\n",
       "    </tr>\n",
       "    <tr>\n",
       "      <th>1174</th>\n",
       "      <td>2066</td>\n",
       "      <td>f4:0e:22:b7:d5:d9</td>\n",
       "      <td>2906.814953</td>\n",
       "      <td>0.043978</td>\n",
       "      <td>10.436582</td>\n",
       "      <td>0.151363</td>\n",
       "      <td>1</td>\n",
       "      <td>3</td>\n",
       "      <td>0.024845</td>\n",
       "      <td>A</td>\n",
       "    </tr>\n",
       "    <tr>\n",
       "      <th>1175</th>\n",
       "      <td>2072</td>\n",
       "      <td>f8:38:80:b0:03:6e</td>\n",
       "      <td>614.875489</td>\n",
       "      <td>0.057560</td>\n",
       "      <td>4.510572</td>\n",
       "      <td>0.167987</td>\n",
       "      <td>1</td>\n",
       "      <td>3</td>\n",
       "      <td>0.031533</td>\n",
       "      <td>A</td>\n",
       "    </tr>\n",
       "  </tbody>\n",
       "</table>\n",
       "<p>1176 rows × 10 columns</p>\n",
       "</div>"
      ],
      "text/plain": [
       "        Id      ClientMacAddr  Freq_per_day   lat_std  Stay_duration  \\\n",
       "0        4  00:23:a7:e7:96:0c   5378.699258  0.033894      15.371143   \n",
       "1        5  00:23:a7:e7:a8:1c   5080.000000  0.008490      15.000000   \n",
       "2        6  00:26:c6:6d:02:3e   5470.924428  0.048923      15.787148   \n",
       "3        7  00:28:f8:26:ae:e4   5226.495092  0.018679      15.381769   \n",
       "4        8  00:80:92:df:7b:97   3905.074778  0.039068      11.450048   \n",
       "...    ...                ...           ...       ...            ...   \n",
       "1171  2039  e4:a7:a0:99:bd:e9    493.000000  0.024648       3.000000   \n",
       "1172  2046  e4:a7:a0:99:dd:ec    641.000000  0.033193       3.000000   \n",
       "1173  2063  f0:8a:76:f7:3f:e4   1097.879286  0.043205      11.354157   \n",
       "1174  2066  f4:0e:22:b7:d5:d9   2906.814953  0.043978      10.436582   \n",
       "1175  2072  f8:38:80:b0:03:6e    614.875489  0.057560       4.510572   \n",
       "\n",
       "       lng_std  Category  Floor  std_square_sum machine_label  \n",
       "0     0.021194         1      0        0.001598             A  \n",
       "1     0.007667         1      0        0.000131             A  \n",
       "2     0.031102         1      0        0.003361             A  \n",
       "3     0.010157         1      0        0.000452             A  \n",
       "4     0.031565         1      0        0.002523             A  \n",
       "...        ...       ...    ...             ...           ...  \n",
       "1171  0.106408         1      3        0.011930             A  \n",
       "1172  0.096531         1      3        0.010420             A  \n",
       "1173  0.156187         1      3        0.026261             A  \n",
       "1174  0.151363         1      3        0.024845             A  \n",
       "1175  0.167987         1      3        0.031533             A  \n",
       "\n",
       "[1176 rows x 10 columns]"
      ]
     },
     "execution_count": 15,
     "metadata": {},
     "output_type": "execute_result"
    }
   ],
   "source": [
    "m"
   ]
  }
 ],
 "metadata": {
  "kernelspec": {
   "display_name": "Python 3 (ipykernel)",
   "language": "python",
   "name": "python3"
  },
  "language_info": {
   "codemirror_mode": {
    "name": "ipython",
    "version": 3
   },
   "file_extension": ".py",
   "mimetype": "text/x-python",
   "name": "python",
   "nbconvert_exporter": "python",
   "pygments_lexer": "ipython3",
   "version": "3.9.7"
  }
 },
 "nbformat": 4,
 "nbformat_minor": 5
}
